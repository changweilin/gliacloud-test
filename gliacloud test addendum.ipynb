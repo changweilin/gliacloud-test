{
 "cells": [
  {
   "cell_type": "code",
   "execution_count": 5,
   "metadata": {
    "colab": {
     "autoexec": {
      "startup": false,
      "wait_interval": 0
     },
     "base_uri": "https://localhost:8080/",
     "height": 51
    },
    "colab_type": "code",
    "executionInfo": {
     "elapsed": 41504,
     "status": "ok",
     "timestamp": 1524763684046,
     "user": {
      "displayName": "張維尼",
      "photoUrl": "//lh3.googleusercontent.com/-c5EqT2ZqGcE/AAAAAAAAAAI/AAAAAAAACAg/TmR2MAQg0Nc/s50-c-k-no/photo.jpg",
      "userId": "111480244562734483115"
     },
     "user_tz": -480
    },
    "id": "8YLuSval-BM5",
    "outputId": "65089bce-1f6c-4394-b15d-9ee2e2c5e9ba"
   },
   "outputs": [
    {
     "name": "stdout",
     "output_type": "stream",
     "text": [
      "fuse: mountpoint is not empty\r\n",
      "fuse: if you are sure this is safe, use the 'nonempty' mount option\r\n"
     ]
    }
   ],
   "source": [
    "!mkdir -p Rawdata\n",
    "!google-drive-ocamlfuse Rawdata"
   ]
  },
  {
   "cell_type": "code",
   "execution_count": 6,
   "metadata": {
    "colab": {
     "autoexec": {
      "startup": false,
      "wait_interval": 0
     },
     "base_uri": "https://localhost:8080/",
     "height": 204
    },
    "colab_type": "code",
    "executionInfo": {
     "elapsed": 25785,
     "status": "ok",
     "timestamp": 1524763801255,
     "user": {
      "displayName": "張維尼",
      "photoUrl": "//lh3.googleusercontent.com/-c5EqT2ZqGcE/AAAAAAAAAAI/AAAAAAAACAg/TmR2MAQg0Nc/s50-c-k-no/photo.jpg",
      "userId": "111480244562734483115"
     },
     "user_tz": -480
    },
    "id": "8erA31My_84J",
    "outputId": "9824e439-2077-4843-9fc5-b8a5baf00455"
   },
   "outputs": [
    {
     "name": "stdout",
     "output_type": "stream",
     "text": [
      "--2018-04-26 17:29:37--  https://raw.githubusercontent.com/livingbio/DeepLearningTutorial/master/raw_sentences.txt\n",
      "Resolving raw.githubusercontent.com (raw.githubusercontent.com)... 151.101.0.133, 151.101.64.133, 151.101.128.133, ...\n",
      "Connecting to raw.githubusercontent.com (raw.githubusercontent.com)|151.101.0.133|:443... connected.\n",
      "HTTP request sent, awaiting response... 200 OK\n",
      "Length: 2955731 (2.8M) [text/plain]\n",
      "Saving to: ‘Rawdata/gliacloud text/raw_sentences.txt’\n",
      "\n",
      "raw_sentences.txt   100%[===================>]   2.82M   174KB/s    in 20s     \n",
      "\n",
      "2018-04-26 17:30:00 (143 KB/s) - ‘Rawdata/gliacloud text/raw_sentences.txt’ saved [2955731/2955731]\n",
      "\n"
     ]
    }
   ],
   "source": [
    "!wget https://raw.githubusercontent.com/livingbio/DeepLearningTutorial/master/raw_sentences.txt -P 'Rawdata/gliacloud text'"
   ]
  },
  {
   "cell_type": "code",
   "execution_count": 21,
   "metadata": {
    "colab": {
     "autoexec": {
      "startup": false,
      "wait_interval": 0
     },
     "base_uri": "https://localhost:8080/",
     "height": 51
    },
    "colab_type": "code",
    "executionInfo": {
     "elapsed": 3560,
     "status": "ok",
     "timestamp": 1524764619663,
     "user": {
      "displayName": "張維尼",
      "photoUrl": "//lh3.googleusercontent.com/-c5EqT2ZqGcE/AAAAAAAAAAI/AAAAAAAACAg/TmR2MAQg0Nc/s50-c-k-no/photo.jpg",
      "userId": "111480244562734483115"
     },
     "user_tz": -480
    },
    "id": "hHLB0FfE5Bxi",
    "outputId": "d9925c3b-6d69-4500-f6e2-479b58d963f1"
   },
   "outputs": [
    {
     "name": "stdout",
     "output_type": "stream",
     "text": [
      "241\n",
      "283.0\n"
     ]
    }
   ],
   "source": [
    "from keras.preprocessing.sequence import pad_sequences\n",
    "from keras.preprocessing.text import Tokenizer\n",
    "import numpy as np\n",
    "\n",
    "def ngram_probs(filename='raw_sentences.txt'):\n",
    "    with open(filename,'r') as file:\n",
    "        content_text = file.read()\n",
    "    \n",
    "    tokenizer = Tokenizer(lower=True, split=\" \")\n",
    "    tokenizer.fit_on_texts([content_text])\n",
    "    vocab = tokenizer.word_index\n",
    "    vocab_size = len(vocab)\n",
    "    \n",
    "    vocab_reverse = {}\n",
    "    vocab_keys = list(vocab.keys())\n",
    "    for vocab_word in vocab_keys:\n",
    "        vocab_index = vocab[vocab_word]\n",
    "        vocab_reverse[vocab_index] = vocab_keys[vocab_index-1]\n",
    "            \n",
    "    content_word_ids = tokenizer.texts_to_sequences([content_text])\n",
    "    content_word_ids = content_word_ids[0]\n",
    "    content_len = len(content_word_ids)\n",
    "    \n",
    "    unigram_probs = np.zeros([vocab_size])\n",
    "    bigram_probs = np.zeros([vocab_size, vocab_size])\n",
    "    trigram_probs = np.zeros([vocab_size, vocab_size, vocab_size])\n",
    "    \n",
    "    for i in range(content_len):\n",
    "        # P(W_i)\n",
    "        unigram_probs[content_word_ids[i]-1] += 1\n",
    "        \n",
    "        # P(W_i|W_i-1)\n",
    "        if i>0:\n",
    "            bigram_probs[content_word_ids[i]-1, content_word_ids[i-1]-1] += 1\n",
    "        \n",
    "        # P(W_i|W_i-2, W_i-1)\n",
    "        if i-1>0:\n",
    "            trigram_probs[content_word_ids[i]-1, content_word_ids[i-1]-1, content_word_ids[i-2]-1] += 1\n",
    "    \n",
    "    return unigram_probs, bigram_probs, trigram_probs, vocab, vocab_reverse\n",
    "\n",
    "cnt1, cnt2, cnt3, vocab ,vocab_reverse = ngram_probs('Rawdata/gliacloud text/raw_sentences.txt')\n",
    "print(len(vocab))\n",
    "print(cnt2[(vocab['we']-1, vocab['are']-1)])"
   ]
  },
  {
   "cell_type": "code",
   "execution_count": 37,
   "metadata": {
    "colab": {
     "autoexec": {
      "startup": false,
      "wait_interval": 0
     },
     "base_uri": "https://localhost:8080/",
     "height": 34
    },
    "colab_type": "code",
    "executionInfo": {
     "elapsed": 696,
     "status": "ok",
     "timestamp": 1524765807846,
     "user": {
      "displayName": "張維尼",
      "photoUrl": "//lh3.googleusercontent.com/-c5EqT2ZqGcE/AAAAAAAAAAI/AAAAAAAACAg/TmR2MAQg0Nc/s50-c-k-no/photo.jpg",
      "userId": "111480244562734483115"
     },
     "user_tz": -480
    },
    "id": "HHvB4rlv5Bxn",
    "outputId": "71596dff-9367-4c9d-cc59-938da871d1a8"
   },
   "outputs": [
    {
     "name": "stdout",
     "output_type": "stream",
     "text": [
      "-5.418521710667886\n"
     ]
    }
   ],
   "source": [
    "def prob3(bigram, target, cnt2=cnt2, cnt3=cnt3):\n",
    "    word_id1 = vocab[bigram[1]]-1\n",
    "    word_id0 = vocab[bigram[0]]-1\n",
    "    target_id = vocab[target]-1\n",
    "    prob = cnt3[:,word_id1, word_id0] / (cnt2[word_id1, word_id0] + 1e-12)\n",
    "    return np.log(prob[target_id] + 1e-12)\n",
    "\n",
    "p = prob3(['we', 'are'], 'family')\n",
    "print(p)"
   ]
  },
  {
   "cell_type": "code",
   "execution_count": 38,
   "metadata": {
    "colab": {
     "autoexec": {
      "startup": false,
      "wait_interval": 0
     },
     "base_uri": "https://localhost:8080/",
     "height": 34
    },
    "colab_type": "code",
    "executionInfo": {
     "elapsed": 676,
     "status": "ok",
     "timestamp": 1524765809374,
     "user": {
      "displayName": "張維尼",
      "photoUrl": "//lh3.googleusercontent.com/-c5EqT2ZqGcE/AAAAAAAAAAI/AAAAAAAACAg/TmR2MAQg0Nc/s50-c-k-no/photo.jpg",
      "userId": "111480244562734483115"
     },
     "user_tz": -480
    },
    "id": "jYMMO1O75Bxr",
    "outputId": "1e2edaf1-7f36-4c22-a7b6-0489dc7edba1"
   },
   "outputs": [
    {
     "name": "stdout",
     "output_type": "stream",
     "text": [
      "we are going nt to it be 's it not 's the it way is\n"
     ]
    }
   ],
   "source": [
    "def predict_max(starting, cnt2=cnt2, cnt3=cnt3):\n",
    "    list_of_words = starting\n",
    "    while list_of_words[-1]!='.' and len(list_of_words)<15:\n",
    "        p_word = []\n",
    "        for word in vocab:\n",
    "            p_word.append(prob3([list_of_words[-1], list_of_words[-2]], word))\n",
    "        p_max = np.array(p_word).argmax()\n",
    "        list_of_words.append(vocab_reverse[p_max+1])\n",
    "    \n",
    "    return list_of_words\n",
    "\n",
    "sent = predict_max(['we', 'are'])\n",
    "assert sent[-1] == '.' or len(sent) <= 15\n",
    "print(' '.join(sent))"
   ]
  }
 ],
 "metadata": {
  "colab": {
   "default_view": {},
   "name": "gliacloud test.ipynb",
   "provenance": [],
   "version": "0.3.2",
   "views": {}
  },
  "kernelspec": {
   "display_name": "Python 3",
   "language": "python",
   "name": "python3"
  },
  "language_info": {
   "codemirror_mode": {
    "name": "ipython",
    "version": 3
   },
   "file_extension": ".py",
   "mimetype": "text/x-python",
   "name": "python",
   "nbconvert_exporter": "python",
   "pygments_lexer": "ipython3",
   "version": "3.6.0"
  }
 },
 "nbformat": 4,
 "nbformat_minor": 1
}
